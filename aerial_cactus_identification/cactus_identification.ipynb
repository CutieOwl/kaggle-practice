{
 "cells": [
  {
   "cell_type": "markdown",
   "metadata": {},
   "source": [
    "# A model of Salt Identification with Keras ConvNet\n",
    "Transfer learning will probably be harder with the wonky pictures of salt identification."
   ]
  },
  {
   "cell_type": "code",
   "execution_count": 70,
   "metadata": {},
   "outputs": [],
   "source": [
    "# % matplotlib inline\n",
    "import datetime as dt\n",
    "\n",
    "# Import plotting for visualization\n",
    "import matplotlib.pyplot as plt\n",
    "from matplotlib.pyplot import imshow\n",
    "plt.rcParams['figure.figsize'] = [16, 10]\n",
    "plt.rcParams['font.size'] = 16\n",
    "from IPython.display import SVG\n",
    "from keras.utils.vis_utils import model_to_dot\n",
    "from keras.utils import plot_model\n",
    "\n",
    "import numpy as np\n",
    "import os\n",
    "import pandas as pd\n",
    "import glob\n",
    "import random, math\n",
    "import itertools\n",
    "import tensorflow as tf\n",
    "import keras\n",
    "from keras.applications import xception\n",
    "from keras.preprocessing import image\n",
    "from keras.utils import to_categorical\n",
    "from keras.utils import layer_utils\n",
    "from keras.utils.data_utils import get_file\n",
    "from keras.applications.imagenet_utils import preprocess_input\n",
    "from keras import layers\n",
    "from keras.layers import Input, Dense, Activation, ZeroPadding2D, BatchNormalization, Flatten, Conv2D, Concatenate, UpSampling2D\n",
    "from keras.layers.core import Lambda\n",
    "from keras.layers import AveragePooling2D, MaxPooling2D, Dropout, GlobalMaxPooling2D, GlobalAveragePooling2D\n",
    "from keras.layers.convolutional import Conv2D, Conv2DTranspose\n",
    "from keras.models import Model, load_model\n",
    "from keras.layers.merge import concatenate\n",
    "from keras.callbacks import EarlyStopping, ModelCheckpoint, ReduceLROnPlateau\n",
    "from keras.preprocessing.image import ImageDataGenerator, array_to_img, img_to_array, load_img\n",
    "from keras.optimizers import *\n",
    "from sklearn.linear_model import LogisticRegression\n",
    "from sklearn.metrics import accuracy_score, confusion_matrix\n",
    "from tqdm import tqdm, tqdm_notebook, tnrange\n",
    "from itertools import chain\n",
    "import sys\n",
    "import image as T\n",
    "sys.path.append(\"/utils/DLWorkspace-Utils/keras-multiprocess-image-data-generator/tools\")\n",
    "from sklearn.model_selection import train_test_split\n",
    "\n",
    "from sklearn import preprocessing\n",
    "from sklearn.model_selection import train_test_split\n",
    "from sklearn.metrics import confusion_matrix # for the confusion matrix\n",
    "\n",
    "import keras.backend as K\n",
    "K.set_image_data_format('channels_last')\n",
    "\n",
    "import warnings\n",
    "from skimage.io import imread, imshow, concatenate_images\n",
    "from skimage.transform import resize\n",
    "from skimage.morphology import label"
   ]
  },
  {
   "cell_type": "markdown",
   "metadata": {},
   "source": [
    "## First, let's set up our optimizer so we can choose which one later on."
   ]
  },
  {
   "cell_type": "code",
   "execution_count": 71,
   "metadata": {},
   "outputs": [
    {
     "name": "stdout",
     "output_type": "stream",
     "text": [
      "Namespace(batch_size=16, decay=0.0006, dropout=0.5, drops_epochs=0, epsilon=1e-06, gpus=1, lr=0.003, nb_epochs=30, optimizer='adam', pooltype='max', reducelr=0, rho=0.95, split=None, upsample=0)\n"
     ]
    }
   ],
   "source": [
    "optimizer_collections = {\n",
    "    \"adadelta\" : Adadelta(), \n",
    "    \"nadam\" : Nadam(), \n",
    "    \"rmsprop\": RMSprop(), \n",
    "    \"adam\": Adam(), \n",
    "    \"adagrad\": Adagrad(), \n",
    "    \"adamax\": Adamax(), \n",
    "}\n",
    "\n",
    "import argparse\n",
    "parser = argparse.ArgumentParser()\n",
    "parser.add_argument('--batch_size', default=16, help='Batch size', type=int)\n",
    "parser.add_argument('--nb_epochs', default=30, help='Number of Epochs', type=int)\n",
    "parser.add_argument('--optimizer', default='adam', help='Optimizer', type=str)\n",
    "parser.add_argument('--split', default=None, help='Which data set to use', type=int)\n",
    "parser.add_argument('--decay', default=6e-4, help='Rate decay', type=float)\n",
    "parser.add_argument('--gpus', default=1, help='Number of GPU', type=int)\n",
    "parser.add_argument('--drops_epochs', default=0, help='Epochs which rate drop by x10', type=float)\n",
    "parser.add_argument('--lr', default=3e-3, help='Learning Rate', type=float)\n",
    "parser.add_argument('--epsilon', default=1e-6, help='Optimizer Epsilon', type=float)\n",
    "parser.add_argument('--rho', default=0.95, help='Optimizer Rho', type=float)\n",
    "parser.add_argument('--dropout', default=0, help='Dropout', type=float)\n",
    "parser.add_argument('--reducelr', default=0, help='Reduce learning rate? 0 or 1', type=int)\n",
    "parser.add_argument('--pooltype', default='max', help='avg or max pool', type=str)\n",
    "parser.add_argument('--upsample', default=0, help='1? upsample:conv2dtranspose', type=int)\n",
    "\n",
    "args = parser.parse_args(\"--optimizer adam --dropout 0.5\".split())\n",
    "#args = parser.parse_args()\n",
    "\n",
    "print( args )\n",
    "BATCH_SIZE = 8\n",
    "if args.batch_size:\n",
    "    BATCH_SIZE = args.batch_size\n",
    "\n",
    "num_gpu = args.gpus\n",
    "# Number of training epochs\n",
    "EPOCHS = args.nb_epochs\n",
    "# data to use. \n",
    "split = args.split\n",
    "\n",
    "DO = args.dropout\n",
    "\n",
    "LR = args.lr\n",
    "DECAY = args.decay\n",
    "EPS = args.epsilon\n",
    "RHO = args.rho\n",
    "\n",
    "if args.optimizer.startswith(\"sgd\"):\n",
    "    optimizer = args.optimizer\n",
    "    opt = SGD(lr = LR, decay=DECAY, momentum=0.9, nesterov=True)\n",
    "elif args.optimizer.startswith(\"adam\"):\n",
    "    optimizer = args.optimizer\n",
    "    opt = Adam(lr=LR, beta_1=0.9, beta_2=0.999, epsilon=EPS, decay=DECAY)\n",
    "elif args.optimizer.startswith(\"adadelta\"):\n",
    "    optimizer = args.optimizer\n",
    "    opt = Adadelta(lr=LR, rho=RHO, epsilon=EPS, decay=DECAY)  \n",
    "elif args.optimizer.startswith(\"rmsprop\"):\n",
    "    optimizer = args.optimizer\n",
    "    opt = RMSprop(lr=LR, rho=RHO, epsilon=EPS, decay=DECAY)\n",
    "else:\n",
    "    optimizer = args.optimizer\n",
    "    opt = optimizer_collections[args.optimizer]"
   ]
  },
  {
   "cell_type": "markdown",
   "metadata": {},
   "source": [
    "### This is a tee object to help write log output."
   ]
  },
  {
   "cell_type": "code",
   "execution_count": 72,
   "metadata": {},
   "outputs": [],
   "source": [
    "class Tee(object):\n",
    "    def __init__(self, name):\n",
    "        self.file = open(name, \"w\")\n",
    "        self.stdout = sys.stdout\n",
    "        sys.stdout = self\n",
    "    def __del__(self):\n",
    "        sys.stdout = self.stdout\n",
    "        self.file.close()\n",
    "    def write(self, data):\n",
    "        self.file.write(data)\n",
    "        self.stdout.write(data)\n",
    "    def flush(self):\n",
    "        self.file.flush()"
   ]
  },
  {
   "cell_type": "markdown",
   "metadata": {},
   "source": [
    "# Working with our data\n",
    "First, we locate our data at the correct directories."
   ]
  },
  {
   "cell_type": "code",
   "execution_count": 73,
   "metadata": {},
   "outputs": [
    {
     "name": "stdout",
     "output_type": "stream",
     "text": [
      "/data/kaggle/aerial_cactus_identification/train\n"
     ]
    }
   ],
   "source": [
    "data_dir = '/data/kaggle/aerial_cactus_identification/'\n",
    "cur_dir = '/home/katherineli.kat/kaggle-practice/aerial_cactus_identification/'\n",
    "result_dir = os.path.join(cur_dir, 'result')\n",
    "train_dir = os.path.join(data_dir, 'train')\n",
    "print(train_dir)\n",
    "test_dir = os.path.join(data_dir, 'test')\n",
    "#sample_submission = pd.read_csv(os.path.join(data_dir, 'sample_submission.csv'))\n",
    "IMAGE_SIZE = 32 # pixel height and width of each image\n",
    "# we declared our batch size in the argparse, it's 16 for now"
   ]
  },
  {
   "cell_type": "markdown",
   "metadata": {},
   "source": [
    "Here's a little piece of code if we wanted to test out different lrs and decays\n",
    "```python\n",
    "if os.path.isdir(os.path.join(result_dir, \"tgs-salt_%s_batch%s_epoch%s_lr%s_decay%s\" % (optimizer, batch_size, fit_epochs, lr_top, args.decay))) == False:\n",
    "    os.mkdir(os.path.join(result_dir, \"tgs-salt_%s_batch%s_epoch%s_lr%s_decay%s\" % (optimizer, batch_size, fit_epochs, lr_top, args.decay)))\n",
    "    \n",
    "model_dir = os.path.join(result_dir, \"tgs-salt_%s_batch%s_epoch%s_lr%s_decay%s\" % (optimizer, batch_size, fit_epochs, lr_top, args.decay))\n",
    "```"
   ]
  },
  {
   "cell_type": "code",
   "execution_count": 74,
   "metadata": {},
   "outputs": [],
   "source": [
    "# Set up location of output\n",
    "prefix = \"8.27\"\n",
    "info = (\"_%s_batch%s_epoch%s_dropout%s_pool%s_upsample%s\" % (optimizer, BATCH_SIZE, EPOCHS, DO, args.pooltype, args.upsample))"
   ]
  },
  {
   "cell_type": "markdown",
   "metadata": {},
   "source": [
    "## Checking out our data"
   ]
  },
  {
   "cell_type": "code",
   "execution_count": 75,
   "metadata": {},
   "outputs": [
    {
     "name": "stdout",
     "output_type": "stream",
     "text": [
      "17500\n"
     ]
    },
    {
     "data": {
      "text/plain": [
       "(17500, 2)"
      ]
     },
     "execution_count": 75,
     "metadata": {},
     "output_type": "execute_result"
    }
   ],
   "source": [
    "train_df = pd.read_csv(os.path.join(data_dir, \"train.csv\"))\n",
    "TOTAL_PICS = len(os.listdir(train_dir))\n",
    "print(TOTAL_PICS)\n",
    "train_df.shape"
   ]
  },
  {
   "cell_type": "code",
   "execution_count": 76,
   "metadata": {},
   "outputs": [
    {
     "data": {
      "text/html": [
       "<div>\n",
       "<style scoped>\n",
       "    .dataframe tbody tr th:only-of-type {\n",
       "        vertical-align: middle;\n",
       "    }\n",
       "\n",
       "    .dataframe tbody tr th {\n",
       "        vertical-align: top;\n",
       "    }\n",
       "\n",
       "    .dataframe thead th {\n",
       "        text-align: right;\n",
       "    }\n",
       "</style>\n",
       "<table border=\"1\" class=\"dataframe\">\n",
       "  <thead>\n",
       "    <tr style=\"text-align: right;\">\n",
       "      <th></th>\n",
       "      <th>id</th>\n",
       "      <th>has_cactus</th>\n",
       "    </tr>\n",
       "  </thead>\n",
       "  <tbody>\n",
       "    <tr>\n",
       "      <th>0</th>\n",
       "      <td>0004be2cfeaba1c0361d39e2b000257b.jpg</td>\n",
       "      <td>1</td>\n",
       "    </tr>\n",
       "    <tr>\n",
       "      <th>1</th>\n",
       "      <td>000c8a36845c0208e833c79c1bffedd1.jpg</td>\n",
       "      <td>1</td>\n",
       "    </tr>\n",
       "    <tr>\n",
       "      <th>2</th>\n",
       "      <td>000d1e9a533f62e55c289303b072733d.jpg</td>\n",
       "      <td>1</td>\n",
       "    </tr>\n",
       "    <tr>\n",
       "      <th>3</th>\n",
       "      <td>0011485b40695e9138e92d0b3fb55128.jpg</td>\n",
       "      <td>1</td>\n",
       "    </tr>\n",
       "    <tr>\n",
       "      <th>4</th>\n",
       "      <td>0014d7a11e90b62848904c1418fc8cf2.jpg</td>\n",
       "      <td>1</td>\n",
       "    </tr>\n",
       "  </tbody>\n",
       "</table>\n",
       "</div>"
      ],
      "text/plain": [
       "                                     id  has_cactus\n",
       "0  0004be2cfeaba1c0361d39e2b000257b.jpg           1\n",
       "1  000c8a36845c0208e833c79c1bffedd1.jpg           1\n",
       "2  000d1e9a533f62e55c289303b072733d.jpg           1\n",
       "3  0011485b40695e9138e92d0b3fb55128.jpg           1\n",
       "4  0014d7a11e90b62848904c1418fc8cf2.jpg           1"
      ]
     },
     "execution_count": 76,
     "metadata": {},
     "output_type": "execute_result"
    }
   ],
   "source": [
    "train_df.head()"
   ]
  },
  {
   "cell_type": "code",
   "execution_count": 77,
   "metadata": {},
   "outputs": [],
   "source": [
    "images = os.path.join(train_dir, \"*\");\n",
    "all_images = glob.glob(images)"
   ]
  },
  {
   "cell_type": "code",
   "execution_count": 78,
   "metadata": {},
   "outputs": [
    {
     "data": {
      "text/plain": [
       "([], <a list of 0 Text yticklabel objects>)"
      ]
     },
     "execution_count": 78,
     "metadata": {},
     "output_type": "execute_result"
    },
    {
     "data": {
      "image/png": "[encoded data removed]",
      "text/plain": [
       "<Figure size 864x720 with 3 Axes>"
      ]
     },
     "metadata": {},
     "output_type": "display_data"
    }
   ],
   "source": [
    "#visualize some images\n",
    "\n",
    "plt.figure(figsize = (12,10))\n",
    "plt.subplot(1, 3, 1)\n",
    "plt.imshow(plt.imread(all_images[0]))\n",
    "plt.xticks([])\n",
    "plt.yticks([])\n",
    "\n",
    "plt.subplot(1, 3, 2)\n",
    "plt.imshow(plt.imread(all_images[10]))\n",
    "plt.xticks([])\n",
    "plt.yticks([])\n",
    "\n",
    "plt.subplot(1, 3, 3)\n",
    "plt.imshow(plt.imread(all_images[20]))\n",
    "plt.xticks([])\n",
    "plt.yticks([])"
   ]
  },
  {
   "cell_type": "markdown",
   "metadata": {},
   "source": [
    "### Let's check the distribution of the data."
   ]
  },
  {
   "cell_type": "code",
   "execution_count": 79,
   "metadata": {},
   "outputs": [
    {
     "data": {
      "text/plain": [
       "<matplotlib.axes._subplots.AxesSubplot at 0x7f1dfd14c978>"
      ]
     },
     "execution_count": 79,
     "metadata": {},
     "output_type": "execute_result"
    },
    {
     "data": {
      "image/png": "[encoded data removed]",
      "text/plain": [
       "<Figure size 1152x720 with 1 Axes>"
      ]
     },
     "metadata": {
      "needs_background": "light"
     },
     "output_type": "display_data"
    }
   ],
   "source": [
    "train_df.has_cactus.hist()"
   ]
  },
  {
   "cell_type": "markdown",
   "metadata": {},
   "source": [
    "From this histogram, we can see that the data is made up of two categories: either 1 and 0. There are a lot more 1s than 0s."
   ]
  },
  {
   "cell_type": "markdown",
   "metadata": {},
   "source": [
    "# Now, let's read in the data!\n",
    "## Training and validations sets first."
   ]
  },
  {
   "cell_type": "code",
   "execution_count": 61,
   "metadata": {},
   "outputs": [],
   "source": [
    "def read_img_train(filepath, size):\n",
    "    img = image.load_img(os.path.join(train_dir, filepath), target_size=size)\n",
    "    img = image.img_to_array(img)\n",
    "    return img"
   ]
  },
  {
   "cell_type": "code",
   "execution_count": 62,
   "metadata": {},
   "outputs": [],
   "source": [
    "# Let's split our train and validation tests 80/20.\n",
    "TRAIN_PICS = int(TOTAL_PICS * 0.8)\n",
    "VALID_PICS = int(TOTAL_PICS * 0.2)\n",
    "train_x = np.zeros((TRAIN_PICS, IMAGE_SIZE, IMAGE_SIZE, 3))\n",
    "train_y = np.zeros((TRAIN_PICS))\n",
    "valid_x = np.zeros((VALID_PICS, IMAGE_SIZE, IMAGE_SIZE, 3))\n",
    "valid_y = np.zeros((VALID_PICS))\n",
    "train_count = 0\n",
    "valid_count = 0\n",
    "for file in os.listdir(train_dir):\n",
    "    img = read_img_train(file, (IMAGE_SIZE, IMAGE_SIZE))\n",
    "    # randomly put images in the train or validation set\n",
    "    if train_count < TRAIN_PICS:\n",
    "        if random.randint(0, 9) < 8:\n",
    "            train_x[train_count] = img/255\n",
    "            train_y[train_count] = train_df[train_df['id'] == file]['has_cactus'].values[0]\n",
    "            train_count += 1\n",
    "        else:\n",
    "            if valid_count < VALID_PICS:\n",
    "                valid_x[valid_count] = img/255\n",
    "                valid_y[valid_count] = train_df[train_df['id'] == file]['has_cactus'].values[0]\n",
    "                valid_count += 1\n",
    "            else:\n",
    "                train_x[train_count] = img/255\n",
    "                train_y[train_count] = train_df[train_df['id'] == file]['has_cactus'].values[0]\n",
    "                train_count += 1\n",
    "    else:\n",
    "        valid_x[valid_count] = img/255\n",
    "        valid_y[valid_count] = train_df[train_df['id'] == file]['has_cactus'].values[0]\n",
    "        valid_count += 1\n",
    "#train = pd.DataFrame(train, columns=['file', 'category_id', 'category'])"
   ]
  },
  {
   "cell_type": "code",
   "execution_count": 63,
   "metadata": {},
   "outputs": [
    {
     "name": "stdout",
     "output_type": "stream",
     "text": [
      "Train_x shape: (14000, 32, 32, 3)\n",
      "Train_y shape: (14000,)\n"
     ]
    },
    {
     "data": {
      "image/png": "[encoded data removed]",
      "text/plain": [
       "<Figure size 1152x720 with 1 Axes>"
      ]
     },
     "metadata": {
      "needs_background": "light"
     },
     "output_type": "display_data"
    },
    {
     "name": "stdout",
     "output_type": "stream",
     "text": [
      "Category: 1.0\n",
      "Validation set\n",
      "Valid_x shape: (3500, 32, 32, 3)\n",
      "Valid_y shape: (3500,)\n"
     ]
    },
    {
     "data": {
      "image/png": "[encoded data removed]",
      "text/plain": [
       "<Figure size 1152x720 with 1 Axes>"
      ]
     },
     "metadata": {
      "needs_background": "light"
     },
     "output_type": "display_data"
    },
    {
     "name": "stdout",
     "output_type": "stream",
     "text": [
      "Category: 1.0\n"
     ]
    }
   ],
   "source": [
    "# print training and validation sets\n",
    "print(\"Train_x shape: \" + str(train_x.shape))\n",
    "print(\"Train_y shape: \" + str(train_y.shape))\n",
    "plt.imshow(train_x[0])\n",
    "plt.show()\n",
    "print(\"Category: \" + str(train_y[0]))\n",
    "\n",
    "print(\"Validation set\")\n",
    "print(\"Valid_x shape: \" + str(valid_x.shape))\n",
    "print(\"Valid_y shape: \" + str(valid_y.shape))\n",
    "plt.imshow(valid_x[0])\n",
    "plt.show()\n",
    "print(\"Category: %s\" % str(valid_y[0]))"
   ]
  },
  {
   "cell_type": "code",
   "execution_count": 81,
   "metadata": {},
   "outputs": [],
   "source": [
    "train_datagen = keras.preprocessing.image.ImageDataGenerator(\n",
    "        rotation_range=90,\n",
    "        width_shift_range=0.2,\n",
    "        height_shift_range=0.2,\n",
    "        rescale=1./255,\n",
    "        shear_range=0.2,\n",
    "        zoom_range=0.2,\n",
    "        horizontal_flip=True,\n",
    "        vertical_flip=True)\n",
    "dev_datagen = keras.preprocessing.image.ImageDataGenerator(rescale=1. / 255)"
   ]
  },
  {
   "cell_type": "code",
   "execution_count": 82,
   "metadata": {},
   "outputs": [],
   "source": [
    "train_generator = train_datagen.flow(\n",
    "        train_x,\n",
    "        train_y,\n",
    "        batch_size= BATCH_SIZE,\n",
    "        shuffle=True)"
   ]
  },
  {
   "cell_type": "code",
   "execution_count": 83,
   "metadata": {},
   "outputs": [],
   "source": [
    "dev_generator = dev_datagen.flow(\n",
    "        valid_x,\n",
    "        valid_y,\n",
    "        batch_size= BATCH_SIZE,\n",
    "        shuffle=True)"
   ]
  },
  {
   "cell_type": "markdown",
   "metadata": {},
   "source": [
    "## Time for the actual model!\n",
    "Let's try out Mariam Mohamed's model to start."
   ]
  },
  {
   "cell_type": "code",
   "execution_count": 85,
   "metadata": {},
   "outputs": [],
   "source": [
    "model = keras.models.Sequential()\n",
    "model.add(keras.layers.Conv2D(64, (5, 5), input_shape=(32, 32, 3)))\n",
    "model.add(keras.layers.BatchNormalization())\n",
    "model.add(keras.layers.LeakyReLU(alpha=0.3))\n",
    "\n",
    "model.add(keras.layers.Conv2D(64, (5, 5)))\n",
    "model.add(keras.layers.BatchNormalization())\n",
    "model.add(keras.layers.LeakyReLU(alpha=0.3))\n",
    "\n",
    "model.add(keras.layers.Conv2D(128, (5, 5)))\n",
    "model.add(keras.layers.BatchNormalization())\n",
    "model.add(keras.layers.LeakyReLU(alpha=0.3))\n",
    "\n",
    "model.add(keras.layers.Conv2D(128, (5, 5)))\n",
    "model.add(keras.layers.BatchNormalization())\n",
    "model.add(keras.layers.LeakyReLU(alpha=0.3))\n",
    "\n",
    "model.add(keras.layers.Conv2D(256, (3, 3)))\n",
    "model.add(keras.layers.BatchNormalization())\n",
    "model.add(keras.layers.LeakyReLU(alpha=0.3))\n",
    "\n",
    "model.add(keras.layers.Conv2D(256, (3, 3)))\n",
    "model.add(keras.layers.BatchNormalization())\n",
    "model.add(keras.layers.LeakyReLU(alpha=0.3))\n",
    "\n",
    "model.add(keras.layers.Conv2D(512, (3, 3)))\n",
    "model.add(keras.layers.BatchNormalization())\n",
    "model.add(keras.layers.LeakyReLU(alpha=0.3))\n",
    "\n",
    "model.add(keras.layers.Flatten())\n",
    "\n",
    "\n",
    "model.add(keras.layers.Dense(100))\n",
    "model.add(keras.layers.BatchNormalization())\n",
    "model.add(keras.layers.LeakyReLU(alpha=0.3))\n",
    "\n",
    "model.add(keras.layers.Dense(1, activation='sigmoid'))"
   ]
  },
  {
   "cell_type": "code",
   "execution_count": 86,
   "metadata": {},
   "outputs": [
    {
     "name": "stdout",
     "output_type": "stream",
     "text": [
      "_________________________________________________________________\n",
      "Layer (type)                 Output Shape              Param #   \n",
      "=================================================================\n",
      "conv2d_1 (Conv2D)            (None, 28, 28, 64)        4864      \n",
      "_________________________________________________________________\n",
      "batch_normalization_1 (Batch (None, 28, 28, 64)        256       \n",
      "_________________________________________________________________\n",
      "leaky_re_lu_1 (LeakyReLU)    (None, 28, 28, 64)        0         \n",
      "_________________________________________________________________\n",
      "conv2d_2 (Conv2D)            (None, 24, 24, 64)        102464    \n",
      "_________________________________________________________________\n",
      "batch_normalization_2 (Batch (None, 24, 24, 64)        256       \n",
      "_________________________________________________________________\n",
      "leaky_re_lu_2 (LeakyReLU)    (None, 24, 24, 64)        0         \n",
      "_________________________________________________________________\n",
      "conv2d_3 (Conv2D)            (None, 20, 20, 128)       204928    \n",
      "_________________________________________________________________\n",
      "batch_normalization_3 (Batch (None, 20, 20, 128)       512       \n",
      "_________________________________________________________________\n",
      "leaky_re_lu_3 (LeakyReLU)    (None, 20, 20, 128)       0         \n",
      "_________________________________________________________________\n",
      "conv2d_4 (Conv2D)            (None, 16, 16, 128)       409728    \n",
      "_________________________________________________________________\n",
      "batch_normalization_4 (Batch (None, 16, 16, 128)       512       \n",
      "_________________________________________________________________\n",
      "leaky_re_lu_4 (LeakyReLU)    (None, 16, 16, 128)       0         \n",
      "_________________________________________________________________\n",
      "conv2d_5 (Conv2D)            (None, 14, 14, 256)       295168    \n",
      "_________________________________________________________________\n",
      "batch_normalization_5 (Batch (None, 14, 14, 256)       1024      \n",
      "_________________________________________________________________\n",
      "leaky_re_lu_5 (LeakyReLU)    (None, 14, 14, 256)       0         \n",
      "_________________________________________________________________\n",
      "conv2d_6 (Conv2D)            (None, 12, 12, 256)       590080    \n",
      "_________________________________________________________________\n",
      "batch_normalization_6 (Batch (None, 12, 12, 256)       1024      \n",
      "_________________________________________________________________\n",
      "leaky_re_lu_6 (LeakyReLU)    (None, 12, 12, 256)       0         \n",
      "_________________________________________________________________\n",
      "conv2d_7 (Conv2D)            (None, 10, 10, 512)       1180160   \n",
      "_________________________________________________________________\n",
      "batch_normalization_7 (Batch (None, 10, 10, 512)       2048      \n",
      "_________________________________________________________________\n",
      "leaky_re_lu_7 (LeakyReLU)    (None, 10, 10, 512)       0         \n",
      "_________________________________________________________________\n",
      "flatten_1 (Flatten)          (None, 51200)             0         \n",
      "_________________________________________________________________\n",
      "dense_1 (Dense)              (None, 100)               5120100   \n",
      "_________________________________________________________________\n",
      "batch_normalization_8 (Batch (None, 100)               400       \n",
      "_________________________________________________________________\n",
      "leaky_re_lu_8 (LeakyReLU)    (None, 100)               0         \n",
      "_________________________________________________________________\n",
      "dense_2 (Dense)              (None, 1)                 101       \n",
      "=================================================================\n",
      "Total params: 7,913,625\n",
      "Trainable params: 7,910,609\n",
      "Non-trainable params: 3,016\n",
      "_________________________________________________________________\n"
     ]
    }
   ],
   "source": [
    "model.summary()"
   ]
  },
  {
   "cell_type": "code",
   "execution_count": 87,
   "metadata": {},
   "outputs": [],
   "source": [
    "opt = keras.optimizers.SGD(lr=0.0001, momentum=0.9, nesterov=True)\n",
    "model.compile(optimizer=opt, loss='binary_crossentropy', metrics=['accuracy'])"
   ]
  },
  {
   "cell_type": "code",
   "execution_count": 88,
   "metadata": {},
   "outputs": [
    {
     "name": "stdout",
     "output_type": "stream",
     "text": [
      "Epoch 1/30\n",
      "875/875 [==============================] - 20s 23ms/step - loss: 0.2631 - acc: 0.8923\n",
      "Epoch 2/30\n",
      "875/875 [==============================] - 15s 17ms/step - loss: 0.1646 - acc: 0.9364\n",
      "Epoch 3/30\n",
      "875/875 [==============================] - 15s 17ms/step - loss: 0.1405 - acc: 0.9444\n",
      "Epoch 4/30\n",
      "875/875 [==============================] - 15s 17ms/step - loss: 0.1202 - acc: 0.9526\n",
      "Epoch 5/30\n",
      "875/875 [==============================] - 15s 17ms/step - loss: 0.1093 - acc: 0.9570\n",
      "Epoch 6/30\n",
      "875/875 [==============================] - 15s 17ms/step - loss: 0.1039 - acc: 0.9597\n",
      "Epoch 7/30\n",
      "875/875 [==============================] - 15s 17ms/step - loss: 0.0846 - acc: 0.9696\n",
      "Epoch 8/30\n",
      "875/875 [==============================] - 15s 17ms/step - loss: 0.0798 - acc: 0.9711\n",
      "Epoch 9/30\n",
      "875/875 [==============================] - 15s 17ms/step - loss: 0.0765 - acc: 0.9721\n",
      "Epoch 10/30\n",
      "875/875 [==============================] - 15s 17ms/step - loss: 0.0686 - acc: 0.9771\n",
      "Epoch 11/30\n",
      "875/875 [==============================] - 15s 18ms/step - loss: 0.0673 - acc: 0.9746\n",
      "Epoch 12/30\n",
      "875/875 [==============================] - 15s 17ms/step - loss: 0.0629 - acc: 0.9774\n",
      "Epoch 13/30\n",
      "875/875 [==============================] - 15s 17ms/step - loss: 0.0604 - acc: 0.9793\n",
      "Epoch 14/30\n",
      "875/875 [==============================] - 15s 17ms/step - loss: 0.0601 - acc: 0.9783\n",
      "Epoch 15/30\n",
      "875/875 [==============================] - 15s 17ms/step - loss: 0.0531 - acc: 0.9812\n",
      "Epoch 16/30\n",
      "875/875 [==============================] - 15s 17ms/step - loss: 0.0554 - acc: 0.9811\n",
      "Epoch 17/30\n",
      "875/875 [==============================] - 15s 17ms/step - loss: 0.0542 - acc: 0.9802\n",
      "Epoch 18/30\n",
      "875/875 [==============================] - 15s 17ms/step - loss: 0.0505 - acc: 0.9814\n",
      "Epoch 19/30\n",
      "875/875 [==============================] - 15s 17ms/step - loss: 0.0477 - acc: 0.9827\n",
      "Epoch 20/30\n",
      "875/875 [==============================] - 15s 17ms/step - loss: 0.0499 - acc: 0.9812\n",
      "Epoch 21/30\n",
      "875/875 [==============================] - 15s 17ms/step - loss: 0.0486 - acc: 0.9837\n",
      "Epoch 22/30\n",
      "875/875 [==============================] - 15s 17ms/step - loss: 0.0485 - acc: 0.9829\n"
     ]
    }
   ],
   "source": [
    "def step_decay_schedule(initial_lr=1e-3, decay_factor=0.75, step_size=10):\n",
    "    '''\n",
    "    Wrapper function to create a LearningRateScheduler with step decay schedule.\n",
    "    '''\n",
    "    def schedule(epoch):\n",
    "        return initial_lr * (decay_factor ** np.floor(epoch/step_size))\n",
    "    \n",
    "    return keras.callbacks.LearningRateScheduler(schedule)\n",
    "\n",
    "lr_sched = step_decay_schedule(initial_lr=1e-3, decay_factor=0.75, step_size=2)\n",
    "early_stop = keras.callbacks.EarlyStopping(monitor='loss', patience=3)\n",
    "\n",
    "history = model.fit_generator(\n",
    "            train_generator, \n",
    "            steps_per_epoch= (TRAIN_PICS+BATCH_SIZE-1)//BATCH_SIZE, \n",
    "            epochs=30, \n",
    "            callbacks=[lr_sched, early_stop])"
   ]
  },
  {
   "cell_type": "code",
   "execution_count": 89,
   "metadata": {},
   "outputs": [
    {
     "name": "stdout",
     "output_type": "stream",
     "text": [
      "[0 0 0 ... 0 0 0]\n",
      "(3500,)\n"
     ]
    }
   ],
   "source": [
    "res = model.predict_generator(dev_generator, steps =(VALID_PICS+BATCH_SIZE-1)//BATCH_SIZE)\n",
    "pred = np.argmax(res,axis=1)\n",
    "print(pred)\n",
    "print(str(pred.shape))"
   ]
  },
  {
   "cell_type": "code",
   "execution_count": 90,
   "metadata": {},
   "outputs": [
    {
     "data": {
      "text/plain": [
       "[0.059240042717395615, 0.9802857142857143]"
      ]
     },
     "execution_count": 90,
     "metadata": {},
     "output_type": "execute_result"
    }
   ],
   "source": [
    "model.evaluate_generator(dev_generator, steps=(VALID_PICS+BATCH_SIZE-1)//BATCH_SIZE)"
   ]
  },
  {
   "cell_type": "markdown",
   "metadata": {},
   "source": [
    "### And now let's read in the test set."
   ]
  },
  {
   "cell_type": "code",
   "execution_count": 91,
   "metadata": {},
   "outputs": [],
   "source": [
    "def read_img_test(filepath, size):\n",
    "    img = image.load_img(os.path.join(test_dir, filepath), target_size=size)\n",
    "    img = image.img_to_array(img)\n",
    "    return img"
   ]
  },
  {
   "cell_type": "code",
   "execution_count": 92,
   "metadata": {},
   "outputs": [
    {
     "data": {
      "text/plain": [
       "\"test = np.zeros((TEST_PICS, IMAGE_SIZE, IMAGE_SIZE, 3))\\ntest_ids = []\\ncount = 0\\nfor file in os.listdir(test_dir):\\n    img = read_img_test(file, (IMAGE_SIZE, IMAGE_SIZE))\\n    test[count] = img/255\\n    test_ids.append(file) # Images' ids\\n    count += 1\\n#train = pd.DataFrame(train, columns=['file', 'category_id', 'category'])\""
      ]
     },
     "execution_count": 92,
     "metadata": {},
     "output_type": "execute_result"
    }
   ],
   "source": [
    "'''test = np.zeros((TEST_PICS, IMAGE_SIZE, IMAGE_SIZE, 3))\n",
    "test_ids = []\n",
    "count = 0\n",
    "for file in os.listdir(test_dir):\n",
    "    img = read_img_test(file, (IMAGE_SIZE, IMAGE_SIZE))\n",
    "    test[count] = img/255\n",
    "    test_ids.append(file) # Images' ids\n",
    "    count += 1\n",
    "#train = pd.DataFrame(train, columns=['file', 'category_id', 'category'])'''"
   ]
  },
  {
   "cell_type": "code",
   "execution_count": 93,
   "metadata": {},
   "outputs": [],
   "source": [
    "test_files = os.listdir(test_dir)\n",
    "TEST_PICS = len(test_files)\n",
    "batch = 40\n",
    "all_out = []\n",
    "for i in range(int(TEST_PICS/batch)):\n",
    "    images = []\n",
    "    for j in range(batch):\n",
    "        img = read_img_test(test_files[i*batch + j], (IMAGE_SIZE, IMAGE_SIZE))\n",
    "        images += [img]\n",
    "    out = model.predict(np.array(images))\n",
    "    all_out += [out]"
   ]
  },
  {
   "cell_type": "code",
   "execution_count": 94,
   "metadata": {},
   "outputs": [
    {
     "data": {
      "text/plain": [
       "(4000, 1)"
      ]
     },
     "execution_count": 94,
     "metadata": {},
     "output_type": "execute_result"
    }
   ],
   "source": [
    "all_out = np.array(all_out).reshape((-1, 1))\n",
    "all_out.shape"
   ]
  },
  {
   "cell_type": "code",
   "execution_count": 95,
   "metadata": {},
   "outputs": [],
   "source": [
    "sub_file = pd.DataFrame(data = {'id': test_files, 'has_cactus': all_out.reshape(-1).tolist()})"
   ]
  },
  {
   "cell_type": "code",
   "execution_count": 96,
   "metadata": {},
   "outputs": [],
   "source": [
    "sub_file.to_csv('submission1mariam.csv', index=False)"
   ]
  },
  {
   "cell_type": "code",
   "execution_count": 66,
   "metadata": {},
   "outputs": [
    {
     "name": "stdout",
     "output_type": "stream",
     "text": [
      "Test's shape: (4000, 32, 32, 3)\n"
     ]
    },
    {
     "data": {
      "image/png": "[encoded data removed]",
      "text/plain": [
       "<Figure size 1152x720 with 1 Axes>"
      ]
     },
     "metadata": {
      "needs_background": "light"
     },
     "output_type": "display_data"
    }
   ],
   "source": [
    "'''print(\"Test's shape: %s\" % str(test.shape))\n",
    "plt.imshow(test[0])\n",
    "plt.show()'''"
   ]
  },
  {
   "cell_type": "markdown",
   "metadata": {},
   "source": [
    "My findings during testing:\n",
    "- Optimizer? **Adam**. Adadelta does best on train and validation but Adam does best on test.\n",
    "- Dropout?\n",
    "- Image size? **128 pixels** seems to be doing well. (Further testing might help)\n",
    "- Number of convblocks? **11 convblocks** is pretty good. (Further testing might help)\n",
    "- Reduce learning rate? \n",
    "- Batch size? **32 batch size** works the best.\n",
    "- Epochs? The accuracy continues to improve up to **120 epochs**; I could probably test for longer than 120 epochs and still have it improve. (Further testing might help)."
   ]
  }
 ],
 "metadata": {
  "kernelspec": {
   "display_name": "Python 3",
   "language": "python",
   "name": "python3"
  },
  "language_info": {
   "codemirror_mode": {
    "name": "ipython",
    "version": 3
   },
   "file_extension": ".py",
   "mimetype": "text/x-python",
   "name": "python",
   "nbconvert_exporter": "python",
   "pygments_lexer": "ipython3",
   "version": "3.5.2"
  }
 },
 "nbformat": 4,
 "nbformat_minor": 2
}
